{
  "nbformat": 4,
  "nbformat_minor": 0,
  "metadata": {
    "colab": {
      "name": "Part1-Clustering.ipynb",
      "provenance": [],
      "toc_visible": true
    },
    "kernelspec": {
      "display_name": "Python 3",
      "language": "python",
      "name": "python3"
    }
  },
  "cells": [
    {
      "cell_type": "markdown",
      "metadata": {
        "id": "V2aSBSSELwPz",
        "colab_type": "text"
      },
      "source": [
        "# Aim : To predict clusters of customers by store location"
      ]
    },
    {
      "cell_type": "code",
      "metadata": {
        "id": "kh31Og9uLwP1",
        "colab_type": "code",
        "colab": {}
      },
      "source": [
        "import numpy as np\n",
        "import pandas as pd\n",
        "import matplotlib.pyplot as plt\n",
        "#%matplotlib inline\n",
        "from sklearn.cluster import KMeans\n",
        "from sklearn.metrics import silhouette_score\n",
        "from sklearn.preprocessing import LabelEncoder, RobustScaler\n",
        "from datetime import datetime\n",
        "from sklearn.decomposition import PCA,KernelPCA\n",
        "#from sklearn.model_selection import train_test_split\n",
        "from sklearn.metrics import confusion_matrix, accuracy_score\n",
        "import seaborn as sns\n",
        "color = sns.color_palette()\n",
        "import warnings\n",
        "warnings.filterwarnings('ignore')"
      ],
      "execution_count": null,
      "outputs": []
    },
    {
      "cell_type": "code",
      "metadata": {
        "id": "eJtcYl4VLwP7",
        "colab_type": "code",
        "colab": {}
      },
      "source": [
        "#Product file contains products transaction information and highlights the discounts used by customers in each transaction.\n",
        "prods=pd.read_csv('./data/cproducts.csv',header='infer',sep=',',delimiter=None,index_col=None,dtype=None)\n",
        "\n",
        "#Tender file contains information on payment mode(s) used by a customer in making a transaction\n",
        "tender=pd.read_csv('./data/ctender.csv',header='infer',sep=',',delimiter=None,index_col=None,dtype=None)"
      ],
      "execution_count": null,
      "outputs": []
    },
    {
      "cell_type": "code",
      "metadata": {
        "id": "Fvpi2uAMLwQA",
        "colab_type": "code",
        "colab": {},
        "outputId": "0571cf8d-cdf5-48d9-f531-ec74f9912063"
      },
      "source": [
        "#Give no of rows and column fr Product file\n",
        "prods.shape"
      ],
      "execution_count": null,
      "outputs": [
        {
          "output_type": "execute_result",
          "data": {
            "text/plain": [
              "(11972, 16)"
            ]
          },
          "metadata": {
            "tags": []
          },
          "execution_count": 3
        }
      ]
    },
    {
      "cell_type": "code",
      "metadata": {
        "id": "VWOXv_DILwQI",
        "colab_type": "code",
        "colab": {},
        "outputId": "87325540-2c9b-43ac-9919-02ab5bb2b5bd"
      },
      "source": [
        "#Gives column name for Product file\n",
        "prods.columns"
      ],
      "execution_count": null,
      "outputs": [
        {
          "output_type": "execute_result",
          "data": {
            "text/plain": [
              "Index(['customerID', 'DOB', 'Gender', 'State', 'PinCode', 'transactionDate',\n",
              "       'store_code', 'store_description', 'till_no',\n",
              "       'transaction_number_by_till', 'promo_code', 'promotion_description',\n",
              "       'product_code', 'product_description', 'sale_price_after_promo',\n",
              "       'discountUsed'],\n",
              "      dtype='object')"
            ]
          },
          "metadata": {
            "tags": []
          },
          "execution_count": 4
        }
      ]
    },
    {
      "cell_type": "code",
      "metadata": {
        "scrolled": true,
        "id": "KMDCxlLxLwQO",
        "colab_type": "code",
        "colab": {},
        "outputId": "8193adde-8e87-495d-b98e-3215f5eec367"
      },
      "source": [
        "#Gives datatype of columns and range of records\n",
        "prods.info()"
      ],
      "execution_count": null,
      "outputs": [
        {
          "output_type": "stream",
          "text": [
            "<class 'pandas.core.frame.DataFrame'>\n",
            "RangeIndex: 11972 entries, 0 to 11971\n",
            "Data columns (total 16 columns):\n",
            "customerID                    11972 non-null object\n",
            "DOB                           11653 non-null object\n",
            "Gender                        10944 non-null object\n",
            "State                         10389 non-null object\n",
            "PinCode                       11155 non-null float64\n",
            "transactionDate               11972 non-null object\n",
            "store_code                    11972 non-null int64\n",
            "store_description             11972 non-null object\n",
            "till_no                       11972 non-null int64\n",
            "transaction_number_by_till    11972 non-null int64\n",
            "promo_code                    11972 non-null object\n",
            "promotion_description         3462 non-null object\n",
            "product_code                  11972 non-null int64\n",
            "product_description           11972 non-null object\n",
            "sale_price_after_promo        11972 non-null float64\n",
            "discountUsed                  11972 non-null object\n",
            "dtypes: float64(2), int64(4), object(10)\n",
            "memory usage: 1.5+ MB\n"
          ],
          "name": "stdout"
        }
      ]
    },
    {
      "cell_type": "code",
      "metadata": {
        "id": "k1Cc_pmNLwQU",
        "colab_type": "code",
        "colab": {},
        "outputId": "d91914d9-d72e-4ce8-fd2b-0e93369aac91"
      },
      "source": [
        "# check nulls\n",
        "print('Columns With Nulls')\n",
        "prods.isnull().sum() "
      ],
      "execution_count": null,
      "outputs": [
        {
          "output_type": "stream",
          "text": [
            "Columns With Nulls\n"
          ],
          "name": "stdout"
        },
        {
          "output_type": "execute_result",
          "data": {
            "text/plain": [
              "customerID                       0\n",
              "DOB                            319\n",
              "Gender                        1028\n",
              "State                         1583\n",
              "PinCode                        817\n",
              "transactionDate                  0\n",
              "store_code                       0\n",
              "store_description                0\n",
              "till_no                          0\n",
              "transaction_number_by_till       0\n",
              "promo_code                       0\n",
              "promotion_description         8510\n",
              "product_code                     0\n",
              "product_description              0\n",
              "sale_price_after_promo           0\n",
              "discountUsed                     0\n",
              "dtype: int64"
            ]
          },
          "metadata": {
            "tags": []
          },
          "execution_count": 6
        }
      ]
    },
    {
      "cell_type": "code",
      "metadata": {
        "id": "UI0PKjQ6LwQY",
        "colab_type": "code",
        "colab": {},
        "outputId": "410b1175-3ca8-4e48-e1e2-dd8b0e6a603b"
      },
      "source": [
        "#Give no of rows and column for Tender file\n",
        "tender.shape"
      ],
      "execution_count": null,
      "outputs": [
        {
          "output_type": "execute_result",
          "data": {
            "text/plain": [
              "(149752, 13)"
            ]
          },
          "metadata": {
            "tags": []
          },
          "execution_count": 7
        }
      ]
    },
    {
      "cell_type": "code",
      "metadata": {
        "id": "rzL9RVuuLwQe",
        "colab_type": "code",
        "colab": {},
        "outputId": "cc6018ce-94a5-49f9-8bce-2c4e33442ea4"
      },
      "source": [
        "#Gives column name for Tender file\n",
        "tender.columns"
      ],
      "execution_count": null,
      "outputs": [
        {
          "output_type": "execute_result",
          "data": {
            "text/plain": [
              "Index(['customerID', 'DOB', 'Gender', 'State', 'PinCode', 'transactionDate',\n",
              "       'store_code', 'store_description', 'till_no', 'tender_type',\n",
              "       'transaction_number_by_till', 'payment_amount_by_tender',\n",
              "       'PaymentUsed'],\n",
              "      dtype='object')"
            ]
          },
          "metadata": {
            "tags": []
          },
          "execution_count": 8
        }
      ]
    },
    {
      "cell_type": "code",
      "metadata": {
        "id": "_ReOqRcrLwQj",
        "colab_type": "code",
        "colab": {},
        "outputId": "6de46899-4540-4013-99dd-15dfc6c55a0a"
      },
      "source": [
        "#Gives datatype of columns and range of records\n",
        "tender.info()"
      ],
      "execution_count": null,
      "outputs": [
        {
          "output_type": "stream",
          "text": [
            "<class 'pandas.core.frame.DataFrame'>\n",
            "RangeIndex: 149752 entries, 0 to 149751\n",
            "Data columns (total 13 columns):\n",
            "customerID                    149752 non-null object\n",
            "DOB                           145156 non-null object\n",
            "Gender                        143089 non-null object\n",
            "State                         138102 non-null object\n",
            "PinCode                       144188 non-null float64\n",
            "transactionDate               149752 non-null object\n",
            "store_code                    149752 non-null int64\n",
            "store_description             149752 non-null object\n",
            "till_no                       149752 non-null int64\n",
            "tender_type                   149752 non-null object\n",
            "transaction_number_by_till    149752 non-null int64\n",
            "payment_amount_by_tender      149752 non-null float64\n",
            "PaymentUsed                   148529 non-null object\n",
            "dtypes: float64(2), int64(3), object(8)\n",
            "memory usage: 14.9+ MB\n"
          ],
          "name": "stdout"
        }
      ]
    },
    {
      "cell_type": "code",
      "metadata": {
        "scrolled": true,
        "id": "8qHAnS9fLwQp",
        "colab_type": "code",
        "colab": {},
        "outputId": "4c3f89d4-0b80-4d1d-880c-79fb57a8f12c"
      },
      "source": [
        "# check nulls\n",
        "print('Columns With Nulls')\n",
        "tender.isnull().sum()"
      ],
      "execution_count": null,
      "outputs": [
        {
          "output_type": "stream",
          "text": [
            "Columns With Nulls\n"
          ],
          "name": "stdout"
        },
        {
          "output_type": "execute_result",
          "data": {
            "text/plain": [
              "customerID                        0\n",
              "DOB                            4596\n",
              "Gender                         6663\n",
              "State                         11650\n",
              "PinCode                        5564\n",
              "transactionDate                   0\n",
              "store_code                        0\n",
              "store_description                 0\n",
              "till_no                           0\n",
              "tender_type                       0\n",
              "transaction_number_by_till        0\n",
              "payment_amount_by_tender          0\n",
              "PaymentUsed                    1223\n",
              "dtype: int64"
            ]
          },
          "metadata": {
            "tags": []
          },
          "execution_count": 10
        }
      ]
    },
    {
      "cell_type": "code",
      "metadata": {
        "id": "CIySg2oJLwQu",
        "colab_type": "code",
        "colab": {}
      },
      "source": [
        "#df_prods= prods[['customerID', 'DOB', 'Gender', 'State', 'PinCode', 'transactionDate','store_code', 'store_description', 'till_no','transaction_number_by_till', 'promo_code', 'promotion_description','product_code', 'product_description', 'sale_price_after_promo','discountUsed']]\n",
        "#df_tender= tender[['customerID', 'DOB', 'Gender', 'State', 'PinCode', 'transactionDate','store_code', 'store_description', 'till_no', 'tender_type','transaction_number_by_till', 'payment_amount_by_tender','PaymentUsed']]\n",
        "df=pd.merge(prods,tender,on=['customerID', 'DOB', 'Gender', 'State', 'PinCode', 'transactionDate','store_code', 'store_description','transaction_number_by_till', ],how='inner')\n",
        "df.drop(['till_no_x'],axis=1,inplace=True)\n",
        "df.drop(['till_no_y'],axis=1,inplace=True)"
      ],
      "execution_count": null,
      "outputs": []
    },
    {
      "cell_type": "code",
      "metadata": {
        "id": "yM6e8nfqLwQz",
        "colab_type": "code",
        "colab": {},
        "outputId": "94ce34bc-125e-4364-ee96-e90cbf2a6caf"
      },
      "source": [
        "#Gives no of rows and column for merged dataframe\n",
        "print(df.shape)"
      ],
      "execution_count": null,
      "outputs": [
        {
          "output_type": "stream",
          "text": [
            "(14466, 18)\n"
          ],
          "name": "stdout"
        }
      ]
    },
    {
      "cell_type": "code",
      "metadata": {
        "scrolled": true,
        "id": "iyoqQa2FLwQ5",
        "colab_type": "code",
        "colab": {},
        "outputId": "70c01525-7345-4a9e-8ca0-e8078f441c1a"
      },
      "source": [
        "#Display 1st three rows\n",
        "df.head(3)"
      ],
      "execution_count": null,
      "outputs": [
        {
          "output_type": "execute_result",
          "data": {
            "text/html": [
              "<div>\n",
              "<style>\n",
              "    .dataframe thead tr:only-child th {\n",
              "        text-align: right;\n",
              "    }\n",
              "\n",
              "    .dataframe thead th {\n",
              "        text-align: left;\n",
              "    }\n",
              "\n",
              "    .dataframe tbody tr th {\n",
              "        vertical-align: top;\n",
              "    }\n",
              "</style>\n",
              "<table border=\"1\" class=\"dataframe\">\n",
              "  <thead>\n",
              "    <tr style=\"text-align: right;\">\n",
              "      <th></th>\n",
              "      <th>customerID</th>\n",
              "      <th>DOB</th>\n",
              "      <th>Gender</th>\n",
              "      <th>State</th>\n",
              "      <th>PinCode</th>\n",
              "      <th>transactionDate</th>\n",
              "      <th>store_code</th>\n",
              "      <th>store_description</th>\n",
              "      <th>transaction_number_by_till</th>\n",
              "      <th>promo_code</th>\n",
              "      <th>promotion_description</th>\n",
              "      <th>product_code</th>\n",
              "      <th>product_description</th>\n",
              "      <th>sale_price_after_promo</th>\n",
              "      <th>discountUsed</th>\n",
              "      <th>tender_type</th>\n",
              "      <th>payment_amount_by_tender</th>\n",
              "      <th>PaymentUsed</th>\n",
              "    </tr>\n",
              "  </thead>\n",
              "  <tbody>\n",
              "    <tr>\n",
              "      <th>0</th>\n",
              "      <td>BBID_20482</td>\n",
              "      <td>1975-10-20</td>\n",
              "      <td>male</td>\n",
              "      <td>MADHYA PRADESH</td>\n",
              "      <td>453441.0</td>\n",
              "      <td>2016-05-01</td>\n",
              "      <td>2655</td>\n",
              "      <td>BB-INDORE-MALHAR MEGA MALL</td>\n",
              "      <td>85246</td>\n",
              "      <td>NONPROMO</td>\n",
              "      <td>NaN</td>\n",
              "      <td>1000446431</td>\n",
              "      <td>PATANJALI CHOCOS 125g</td>\n",
              "      <td>55.00</td>\n",
              "      <td>Payback</td>\n",
              "      <td>EDCUBI</td>\n",
              "      <td>65.00</td>\n",
              "      <td>UBI CREDIT CARD</td>\n",
              "    </tr>\n",
              "    <tr>\n",
              "      <th>1</th>\n",
              "      <td>BBID_20498</td>\n",
              "      <td>1981-03-19</td>\n",
              "      <td>female</td>\n",
              "      <td>MAHARASHTRA</td>\n",
              "      <td>400064.0</td>\n",
              "      <td>2015-08-12</td>\n",
              "      <td>2655</td>\n",
              "      <td>BB-INDORE-MALHAR MEGA MALL</td>\n",
              "      <td>1064</td>\n",
              "      <td>0000971754</td>\n",
              "      <td>AD 399 FLAT LADIES JEANS  FASHION EXC</td>\n",
              "      <td>1000077851005</td>\n",
              "      <td>DLJ-0010-BSF-2-CJ-FL, 34, BLACK</td>\n",
              "      <td>418.95</td>\n",
              "      <td>Payback</td>\n",
              "      <td>CASH</td>\n",
              "      <td>768.45</td>\n",
              "      <td>CASH</td>\n",
              "    </tr>\n",
              "    <tr>\n",
              "      <th>2</th>\n",
              "      <td>BBID_20499</td>\n",
              "      <td>1986-05-10</td>\n",
              "      <td>male</td>\n",
              "      <td>MAHARASHTRA</td>\n",
              "      <td>400099.0</td>\n",
              "      <td>2016-12-18</td>\n",
              "      <td>2615</td>\n",
              "      <td>BB-AMRITSAR-TRILIUM MALL</td>\n",
              "      <td>51080</td>\n",
              "      <td>NONPROMO</td>\n",
              "      <td>NaN</td>\n",
              "      <td>1000443231</td>\n",
              "      <td>PATANJALI TOMATO KETCHUP BT 500g</td>\n",
              "      <td>70.00</td>\n",
              "      <td>Payback</td>\n",
              "      <td>MOBI</td>\n",
              "      <td>1701.24</td>\n",
              "      <td>One MobiKwik Systems</td>\n",
              "    </tr>\n",
              "  </tbody>\n",
              "</table>\n",
              "</div>"
            ],
            "text/plain": [
              "   customerID         DOB  Gender           State   PinCode transactionDate  \\\n",
              "0  BBID_20482  1975-10-20    male  MADHYA PRADESH  453441.0      2016-05-01   \n",
              "1  BBID_20498  1981-03-19  female     MAHARASHTRA  400064.0      2015-08-12   \n",
              "2  BBID_20499  1986-05-10    male     MAHARASHTRA  400099.0      2016-12-18   \n",
              "\n",
              "   store_code           store_description  transaction_number_by_till  \\\n",
              "0        2655  BB-INDORE-MALHAR MEGA MALL                       85246   \n",
              "1        2655  BB-INDORE-MALHAR MEGA MALL                        1064   \n",
              "2        2615    BB-AMRITSAR-TRILIUM MALL                       51080   \n",
              "\n",
              "   promo_code                  promotion_description   product_code  \\\n",
              "0    NONPROMO                                    NaN     1000446431   \n",
              "1  0000971754  AD 399 FLAT LADIES JEANS  FASHION EXC  1000077851005   \n",
              "2    NONPROMO                                    NaN     1000443231   \n",
              "\n",
              "                product_description  sale_price_after_promo discountUsed  \\\n",
              "0             PATANJALI CHOCOS 125g                   55.00      Payback   \n",
              "1   DLJ-0010-BSF-2-CJ-FL, 34, BLACK                  418.95      Payback   \n",
              "2  PATANJALI TOMATO KETCHUP BT 500g                   70.00      Payback   \n",
              "\n",
              "  tender_type  payment_amount_by_tender           PaymentUsed  \n",
              "0      EDCUBI                     65.00       UBI CREDIT CARD  \n",
              "1        CASH                    768.45                  CASH  \n",
              "2        MOBI                   1701.24  One MobiKwik Systems  "
            ]
          },
          "metadata": {
            "tags": []
          },
          "execution_count": 13
        }
      ]
    },
    {
      "cell_type": "code",
      "metadata": {
        "scrolled": true,
        "id": "FZGMl3qQLwRB",
        "colab_type": "code",
        "colab": {},
        "outputId": "7598f0da-4622-4465-a1f4-4178e0a1251a"
      },
      "source": [
        "#Gives datatype of columns and range of records\n",
        "df.info()"
      ],
      "execution_count": null,
      "outputs": [
        {
          "output_type": "stream",
          "text": [
            "<class 'pandas.core.frame.DataFrame'>\n",
            "Int64Index: 14466 entries, 0 to 14465\n",
            "Data columns (total 18 columns):\n",
            "customerID                    14466 non-null object\n",
            "DOB                           13857 non-null object\n",
            "Gender                        13646 non-null object\n",
            "State                         13533 non-null object\n",
            "PinCode                       13742 non-null float64\n",
            "transactionDate               14466 non-null object\n",
            "store_code                    14466 non-null int64\n",
            "store_description             14466 non-null object\n",
            "transaction_number_by_till    14466 non-null int64\n",
            "promo_code                    14466 non-null object\n",
            "promotion_description         4211 non-null object\n",
            "product_code                  14466 non-null int64\n",
            "product_description           14466 non-null object\n",
            "sale_price_after_promo        14466 non-null float64\n",
            "discountUsed                  14466 non-null object\n",
            "tender_type                   14466 non-null object\n",
            "payment_amount_by_tender      14466 non-null float64\n",
            "PaymentUsed                   14334 non-null object\n",
            "dtypes: float64(3), int64(3), object(12)\n",
            "memory usage: 2.1+ MB\n"
          ],
          "name": "stdout"
        }
      ]
    },
    {
      "cell_type": "code",
      "metadata": {
        "id": "ES-j4Ow0LwRI",
        "colab_type": "code",
        "colab": {},
        "outputId": "f2ab6766-8b8f-4694-afdb-724a96027838"
      },
      "source": [
        "print('After Merging - Columns With Nulls')\n",
        "df.isnull().sum()"
      ],
      "execution_count": null,
      "outputs": [
        {
          "output_type": "stream",
          "text": [
            "After Merging - Columns With Nulls\n"
          ],
          "name": "stdout"
        },
        {
          "output_type": "execute_result",
          "data": {
            "text/plain": [
              "customerID                        0\n",
              "DOB                             609\n",
              "Gender                          820\n",
              "State                           933\n",
              "PinCode                         724\n",
              "transactionDate                   0\n",
              "store_code                        0\n",
              "store_description                 0\n",
              "transaction_number_by_till        0\n",
              "promo_code                        0\n",
              "promotion_description         10255\n",
              "product_code                      0\n",
              "product_description               0\n",
              "sale_price_after_promo            0\n",
              "discountUsed                      0\n",
              "tender_type                       0\n",
              "payment_amount_by_tender          0\n",
              "PaymentUsed                     132\n",
              "dtype: int64"
            ]
          },
          "metadata": {
            "tags": []
          },
          "execution_count": 15
        }
      ]
    },
    {
      "cell_type": "code",
      "metadata": {
        "id": "7q_8vcRCLwRO",
        "colab_type": "code",
        "colab": {}
      },
      "source": [
        "# To fill missing states from pincode.\n",
        "dic={11:'Delhi',12:'Haryana',13:'Haryana',14:'Punjab',15:'Punjab',16:'Punjab',17:'Himachal Pradesh',\n",
        "    18:'Jammu & Kashmir',19:'Jammu & Kashmir',20:'Uttar Pradesh',21:'Uttar Pradesh',22:'Uttar Pradesh',\n",
        "    23:'Uttar Pradesh',24:'Uttar Pradesh',25:'Uttar Pradesh',26:'Uttar Pradesh',27:'Uttar Pradesh',28:'Uttar Pradesh',\n",
        "    30:'Rajasthan',31:'Rajasthan',32:'Rajasthan',33:'Rajasthan',34:'Rajasthan',36:'Gujarat',37:'Gujarat',38:'Gujarat',\n",
        "    39:'Gujarat',40:'Maharashtra',41:'Maharashtra',42:'Maharashtra',43:'Maharashtra',44:'Maharashtra',45:'Madhya Pradesh',\n",
        "    46:'Madhya Pradesh',47:'Madhya Pradesh',48:'Madhya Pradesh',49:'Madhya Pradesh',50:'Andhra Pradesh',51:'Andhra Pradesh',\n",
        "    52:'Andhra Pradesh',53:'Andhra Pradesh',56:'Karnataka',57:'Karnataka',58:'Karnataka',59:'Karnataka',\n",
        "    60:'Tamil Nadu',61:'Tamil Nadu',62:'Tamil Nadu',63:'Tamil Nadu',64:'Tamil Nadu',67:'Kerala',68:'Kerala',69:'Kerala',\n",
        "    70:'West Bengal',71:'West Bengal',72:'West Bengal',73:'West Bengal',74:'West Bengal',75:'Orissa',76:'Orissa',77:'Orissa',\n",
        "    78:'Assam',79:'North Eastern',80:'Bihar',81:'Bihar',82:'Bihar',83:'Jharkand',84:'Bihar',85:'Bihar',90:'Army',91:'Army',\n",
        "    92:'Army',93:'Army',94:'Army',95:'Army',96:'Army',97:'Army',98:'Army',99:'Army',35:'Madhya Pradesh',1:'Delhi',88:'Jharkhand',\n",
        "    55:'Karnataka',66:'Karnataka',54:\"Karnataka\",65:'Tamil Nadu',10:'Tamil Nadu'}\n",
        "\n",
        "# To fill missing states from store location when pincode is also missing.\n",
        "dic1={'BB-MADURAI-KOCHADAI VILLAGE':'Tamil Nadu','BB-INDORE-TREASURE ISLAND':\"Madhya Pradesh\",\n",
        "     'BB-INDORE-MALHAR MEGA MALL':'Madhya Pradesh','BB-LUDHIANA-FEROZEPUR-MF':'Punjab','BB-JAMSHEDPUR-NH-33':'Jharkand',\n",
        "     'BB-HUBLI-GOKUL ROAD-AKSHAY CEN':'Kanataka','BB-AMRITSAR-TRILIUM MALL':'Punjab'}"
      ],
      "execution_count": null,
      "outputs": []
    },
    {
      "cell_type": "code",
      "metadata": {
        "id": "z2QwAJsnLwRT",
        "colab_type": "code",
        "colab": {}
      },
      "source": [
        "#Fill states features\n",
        "zips=(df['PinCode'].unique())\n",
        "zips=zips[~np.isnan(zips)]\n",
        "\n",
        "df['State']=df['PinCode'].apply(lambda x: dic[int(x/10000)] if x in zips else x)\n",
        "\n",
        "states=list(df['State'].unique())\n",
        "states.remove(np.nan)\n",
        "\n",
        "df['State']=df.apply(lambda x: dic1[x['store_description']] if x['State'] not in states else x['State'] ,axis=1)\n",
        "\n",
        "# Encode states\n",
        "le=LabelEncoder()\n",
        "df[\"State\"]=le.fit_transform(df[\"State\"])\n",
        "\n",
        "df.drop([\"PinCode\"],axis=1,inplace=True)"
      ],
      "execution_count": null,
      "outputs": []
    },
    {
      "cell_type": "code",
      "metadata": {
        "id": "M7-iPHbtLwRY",
        "colab_type": "code",
        "colab": {}
      },
      "source": [
        "# Fill missing gender with no_gender and encode.\n",
        "\n",
        "df['Gender'].fillna('no_gender', inplace=True)\n",
        "le=LabelEncoder()\n",
        "df[\"Gender\"]=le.fit_transform(df[\"Gender\"])"
      ],
      "execution_count": null,
      "outputs": []
    },
    {
      "cell_type": "code",
      "metadata": {
        "id": "78-8ZvcZLwRc",
        "colab_type": "code",
        "colab": {}
      },
      "source": [
        "# Fill missing DOB with the most relevant date (mean) and convert DOB into age\n",
        "\n",
        "df['DOB']=df['DOB'].fillna('1975-1-12')\n",
        "df['DOB']=df['DOB'].replace(['NANA'],['1975-1-12'])\n",
        "df['DOB']=df['DOB'].apply(lambda x: datetime.strptime(x,'%Y-%m-%d').year)\n",
        "df[\"DOB\"]=2018-df[\"DOB\"]\n",
        "\n",
        "# Renaming column DOB as Age\n",
        "df=df.rename(columns={'DOB':'Age'})"
      ],
      "execution_count": null,
      "outputs": []
    },
    {
      "cell_type": "code",
      "metadata": {
        "id": "3s6P9JM1LwRf",
        "colab_type": "code",
        "colab": {}
      },
      "source": [
        "#From transaction we can get recency, frequency and monetary value\n",
        "df['transactionDate']=df['transactionDate'].apply(lambda x: datetime.strptime(x,'%Y-%m-%d'))\n",
        "df['Year']=df['transactionDate'].apply(lambda x:x.year)\n",
        "df['Month']=df['transactionDate'].apply(lambda x:x.month)\n",
        "df['Weekday']=df['transactionDate'].apply(lambda x:x.weekday())\n",
        "df['Day']=df['transactionDate'].apply(lambda x:x.day)"
      ],
      "execution_count": null,
      "outputs": []
    },
    {
      "cell_type": "code",
      "metadata": {
        "id": "qO1EXnbKLwRj",
        "colab_type": "code",
        "colab": {}
      },
      "source": [
        "#Splitting column discountUsed into 4 column as 'Disc_1','Disc_2','Disc_3','Disc_4' and joining it with existing dataframe df\n",
        "df[['Disc_1','Disc_2','Disc_3','Disc_4']] = df['discountUsed'].str.split(',', 4, expand=True)\n",
        "df.drop(['discountUsed'],axis=1,inplace=True)"
      ],
      "execution_count": null,
      "outputs": []
    },
    {
      "cell_type": "code",
      "metadata": {
        "id": "5-pKdmyaLwRm",
        "colab_type": "code",
        "colab": {},
        "outputId": "25ff8d9b-1b1f-4944-a4e4-98c4d01e9c58"
      },
      "source": [
        "df.head()"
      ],
      "execution_count": null,
      "outputs": [
        {
          "output_type": "execute_result",
          "data": {
            "text/html": [
              "<div>\n",
              "<style>\n",
              "    .dataframe thead tr:only-child th {\n",
              "        text-align: right;\n",
              "    }\n",
              "\n",
              "    .dataframe thead th {\n",
              "        text-align: left;\n",
              "    }\n",
              "\n",
              "    .dataframe tbody tr th {\n",
              "        vertical-align: top;\n",
              "    }\n",
              "</style>\n",
              "<table border=\"1\" class=\"dataframe\">\n",
              "  <thead>\n",
              "    <tr style=\"text-align: right;\">\n",
              "      <th></th>\n",
              "      <th>customerID</th>\n",
              "      <th>Age</th>\n",
              "      <th>Gender</th>\n",
              "      <th>State</th>\n",
              "      <th>transactionDate</th>\n",
              "      <th>store_code</th>\n",
              "      <th>store_description</th>\n",
              "      <th>transaction_number_by_till</th>\n",
              "      <th>promo_code</th>\n",
              "      <th>promotion_description</th>\n",
              "      <th>...</th>\n",
              "      <th>payment_amount_by_tender</th>\n",
              "      <th>PaymentUsed</th>\n",
              "      <th>Year</th>\n",
              "      <th>Month</th>\n",
              "      <th>Weekday</th>\n",
              "      <th>Day</th>\n",
              "      <th>Disc_1</th>\n",
              "      <th>Disc_2</th>\n",
              "      <th>Disc_3</th>\n",
              "      <th>Disc_4</th>\n",
              "    </tr>\n",
              "  </thead>\n",
              "  <tbody>\n",
              "    <tr>\n",
              "      <th>0</th>\n",
              "      <td>BBID_20482</td>\n",
              "      <td>43</td>\n",
              "      <td>1</td>\n",
              "      <td>14</td>\n",
              "      <td>2016-05-01</td>\n",
              "      <td>2655</td>\n",
              "      <td>BB-INDORE-MALHAR MEGA MALL</td>\n",
              "      <td>85246</td>\n",
              "      <td>NONPROMO</td>\n",
              "      <td>NaN</td>\n",
              "      <td>...</td>\n",
              "      <td>65.00</td>\n",
              "      <td>UBI CREDIT CARD</td>\n",
              "      <td>2016</td>\n",
              "      <td>5</td>\n",
              "      <td>6</td>\n",
              "      <td>1</td>\n",
              "      <td>Payback</td>\n",
              "      <td>None</td>\n",
              "      <td>None</td>\n",
              "      <td>None</td>\n",
              "    </tr>\n",
              "    <tr>\n",
              "      <th>1</th>\n",
              "      <td>BBID_20498</td>\n",
              "      <td>37</td>\n",
              "      <td>0</td>\n",
              "      <td>15</td>\n",
              "      <td>2015-08-12</td>\n",
              "      <td>2655</td>\n",
              "      <td>BB-INDORE-MALHAR MEGA MALL</td>\n",
              "      <td>1064</td>\n",
              "      <td>0000971754</td>\n",
              "      <td>AD 399 FLAT LADIES JEANS  FASHION EXC</td>\n",
              "      <td>...</td>\n",
              "      <td>768.45</td>\n",
              "      <td>CASH</td>\n",
              "      <td>2015</td>\n",
              "      <td>8</td>\n",
              "      <td>2</td>\n",
              "      <td>12</td>\n",
              "      <td>Payback</td>\n",
              "      <td>None</td>\n",
              "      <td>None</td>\n",
              "      <td>None</td>\n",
              "    </tr>\n",
              "    <tr>\n",
              "      <th>2</th>\n",
              "      <td>BBID_20499</td>\n",
              "      <td>32</td>\n",
              "      <td>1</td>\n",
              "      <td>15</td>\n",
              "      <td>2016-12-18</td>\n",
              "      <td>2615</td>\n",
              "      <td>BB-AMRITSAR-TRILIUM MALL</td>\n",
              "      <td>51080</td>\n",
              "      <td>NONPROMO</td>\n",
              "      <td>NaN</td>\n",
              "      <td>...</td>\n",
              "      <td>1701.24</td>\n",
              "      <td>One MobiKwik Systems</td>\n",
              "      <td>2016</td>\n",
              "      <td>12</td>\n",
              "      <td>6</td>\n",
              "      <td>18</td>\n",
              "      <td>Payback</td>\n",
              "      <td>None</td>\n",
              "      <td>None</td>\n",
              "      <td>None</td>\n",
              "    </tr>\n",
              "    <tr>\n",
              "      <th>3</th>\n",
              "      <td>BBID_204110</td>\n",
              "      <td>30</td>\n",
              "      <td>1</td>\n",
              "      <td>14</td>\n",
              "      <td>2015-12-31</td>\n",
              "      <td>2655</td>\n",
              "      <td>BB-INDORE-MALHAR MEGA MALL</td>\n",
              "      <td>21911</td>\n",
              "      <td>0000974126</td>\n",
              "      <td>NMP 5% OFF CONCEPT DISCOUNT 2655</td>\n",
              "      <td>...</td>\n",
              "      <td>224.89</td>\n",
              "      <td>CASH</td>\n",
              "      <td>2015</td>\n",
              "      <td>12</td>\n",
              "      <td>3</td>\n",
              "      <td>31</td>\n",
              "      <td>Payback</td>\n",
              "      <td>None</td>\n",
              "      <td>None</td>\n",
              "      <td>None</td>\n",
              "    </tr>\n",
              "    <tr>\n",
              "      <th>4</th>\n",
              "      <td>BBID_204149</td>\n",
              "      <td>41</td>\n",
              "      <td>1</td>\n",
              "      <td>15</td>\n",
              "      <td>2016-11-08</td>\n",
              "      <td>2906</td>\n",
              "      <td>BB-INDORE-TREASURE ISLAND</td>\n",
              "      <td>33822</td>\n",
              "      <td>0001203034</td>\n",
              "      <td>AZ 1@349,2@599 FLAT REG TERRY BATH TOWEL</td>\n",
              "      <td>...</td>\n",
              "      <td>21813.00</td>\n",
              "      <td>SBI CREDIT CARD</td>\n",
              "      <td>2016</td>\n",
              "      <td>11</td>\n",
              "      <td>1</td>\n",
              "      <td>8</td>\n",
              "      <td>Payback</td>\n",
              "      <td>None</td>\n",
              "      <td>None</td>\n",
              "      <td>None</td>\n",
              "    </tr>\n",
              "  </tbody>\n",
              "</table>\n",
              "<p>5 rows × 24 columns</p>\n",
              "</div>"
            ],
            "text/plain": [
              "    customerID  Age  Gender  State transactionDate  store_code  \\\n",
              "0   BBID_20482   43       1     14      2016-05-01        2655   \n",
              "1   BBID_20498   37       0     15      2015-08-12        2655   \n",
              "2   BBID_20499   32       1     15      2016-12-18        2615   \n",
              "3  BBID_204110   30       1     14      2015-12-31        2655   \n",
              "4  BBID_204149   41       1     15      2016-11-08        2906   \n",
              "\n",
              "            store_description  transaction_number_by_till  promo_code  \\\n",
              "0  BB-INDORE-MALHAR MEGA MALL                       85246    NONPROMO   \n",
              "1  BB-INDORE-MALHAR MEGA MALL                        1064  0000971754   \n",
              "2    BB-AMRITSAR-TRILIUM MALL                       51080    NONPROMO   \n",
              "3  BB-INDORE-MALHAR MEGA MALL                       21911  0000974126   \n",
              "4   BB-INDORE-TREASURE ISLAND                       33822  0001203034   \n",
              "\n",
              "                      promotion_description   ...    payment_amount_by_tender  \\\n",
              "0                                       NaN   ...                       65.00   \n",
              "1     AD 399 FLAT LADIES JEANS  FASHION EXC   ...                      768.45   \n",
              "2                                       NaN   ...                     1701.24   \n",
              "3          NMP 5% OFF CONCEPT DISCOUNT 2655   ...                      224.89   \n",
              "4  AZ 1@349,2@599 FLAT REG TERRY BATH TOWEL   ...                    21813.00   \n",
              "\n",
              "            PaymentUsed  Year Month  Weekday Day   Disc_1  Disc_2  Disc_3  \\\n",
              "0       UBI CREDIT CARD  2016     5        6   1  Payback    None    None   \n",
              "1                  CASH  2015     8        2  12  Payback    None    None   \n",
              "2  One MobiKwik Systems  2016    12        6  18  Payback    None    None   \n",
              "3                  CASH  2015    12        3  31  Payback    None    None   \n",
              "4       SBI CREDIT CARD  2016    11        1   8  Payback    None    None   \n",
              "\n",
              "   Disc_4  \n",
              "0    None  \n",
              "1    None  \n",
              "2    None  \n",
              "3    None  \n",
              "4    None  \n",
              "\n",
              "[5 rows x 24 columns]"
            ]
          },
          "metadata": {
            "tags": []
          },
          "execution_count": 22
        }
      ]
    },
    {
      "cell_type": "code",
      "metadata": {
        "id": "zunmoqMILwRq",
        "colab_type": "code",
        "colab": {}
      },
      "source": [
        "#Replacing BBProfitClub as 0, BBSavingsClub as 1, Payback as 2, T24Club as 3, FuturePrivilegeClub as 4,FGShoppingFest as 5\n",
        "df['Disc_1'] = np.where(df['Disc_1']=='BBProfitClub', 0, np.where(df['Disc_1']=='BBSavingsClub', 1,np.where(df['Disc_1']=='Payback', 2,np.where(df['Disc_1']=='T24Club', 3,np.where(df['Disc_1']=='FuturePrivilegeClub', 4,np.where(df['Disc_1']=='FGShoppingFest', 5, df['Disc_1']))))))\n",
        "df['Disc_1'].fillna('9', inplace=True)"
      ],
      "execution_count": null,
      "outputs": []
    },
    {
      "cell_type": "code",
      "metadata": {
        "id": "72e1BwP3LwRu",
        "colab_type": "code",
        "colab": {}
      },
      "source": [
        "#Replacing BBProfitClub as 0, BBSavingsClub as 1, Payback as 2, T24Club as 3, FuturePrivilegeClub as 4,FGShoppingFest as 5\n",
        "df['Disc_2'] = np.where(df['Disc_2']=='BBProfitClub', 0, np.where(df['Disc_2']=='BBSavingsClub', 1,np.where(df['Disc_2']=='Payback', 2,np.where(df['Disc_2']=='T24Club', 3,np.where(df['Disc_2']=='FuturePrivilegeClub', 4,np.where(df['Disc_2']=='FGShoppingFest', 5, df['Disc_2']))))))\n",
        "df['Disc_2'].fillna('9', inplace=True)"
      ],
      "execution_count": null,
      "outputs": []
    },
    {
      "cell_type": "code",
      "metadata": {
        "id": "HBPAaG8OLwRx",
        "colab_type": "code",
        "colab": {}
      },
      "source": [
        "#Replacing BBProfitClub as 0, BBSavingsClub as 1, Payback as 2, T24Club as 3, FuturePrivilegeClub as 4,FGShoppingFest as 5\n",
        "df['Disc_3'] = np.where(df['Disc_3']=='BBProfitClub', 0, np.where(df['Disc_3']=='BBSavingsClub', 1,np.where(df['Disc_3']=='Payback', 2,np.where(df['Disc_3']=='T24Club', 3,np.where(df['Disc_3']=='FuturePrivilegeClub', 4,np.where(df['Disc_3']=='FGShoppingFest', 5, df['Disc_3']))))))\n",
        "df['Disc_3'].fillna('9', inplace=True)"
      ],
      "execution_count": null,
      "outputs": []
    },
    {
      "cell_type": "code",
      "metadata": {
        "id": "hGUs3i0PLwR0",
        "colab_type": "code",
        "colab": {}
      },
      "source": [
        "#Replacing BBProfitClub as 0, BBSavingsClub as 1, Payback as 2, T24Club as 3, FuturePrivilegeClub as 4,FGShoppingFest as 5\n",
        "df['Disc_4'] = np.where(df['Disc_4']=='BBProfitClub', 0, np.where(df['Disc_4']=='BBSavingsClub', 1,np.where(df['Disc_4']=='Payback', 2,np.where(df['Disc_4']=='T24Club', 3,np.where(df['Disc_4']=='FuturePrivilegeClub', 4,np.where(df['Disc_4']=='FGShoppingFest', 5, df['Disc_4']))))))\n",
        "df['Disc_4'].fillna('9', inplace=True)"
      ],
      "execution_count": null,
      "outputs": []
    },
    {
      "cell_type": "code",
      "metadata": {
        "id": "uF3MRttSLwR5",
        "colab_type": "code",
        "colab": {}
      },
      "source": [
        "le=LabelEncoder()\n",
        "df[\"promo_code\"]=le.fit_transform(df[\"promo_code\"])\n",
        "df.drop(['promotion_description'],axis=1,inplace=True)"
      ],
      "execution_count": null,
      "outputs": []
    },
    {
      "cell_type": "code",
      "metadata": {
        "id": "rJPB9aQfLwR9",
        "colab_type": "code",
        "colab": {}
      },
      "source": [
        "df.drop(['transactionDate'],axis=1,inplace=True)"
      ],
      "execution_count": null,
      "outputs": []
    },
    {
      "cell_type": "code",
      "metadata": {
        "id": "YHw4IgyZLwSB",
        "colab_type": "code",
        "colab": {}
      },
      "source": [
        "le=LabelEncoder()\n",
        "#df=df.fillna(0)\n",
        "df['tender_type'].fillna('0', inplace=True)\n",
        "df[\"tender_type\"]=le.fit_transform(df[\"tender_type\"])"
      ],
      "execution_count": null,
      "outputs": []
    },
    {
      "cell_type": "code",
      "metadata": {
        "id": "H1HQpvC3LwSG",
        "colab_type": "code",
        "colab": {}
      },
      "source": [
        "df['payment_amount_by_tender'].fillna('0', inplace=True)"
      ],
      "execution_count": null,
      "outputs": []
    },
    {
      "cell_type": "code",
      "metadata": {
        "id": "Ch7uQoGcLwSJ",
        "colab_type": "code",
        "colab": {}
      },
      "source": [
        "df.drop(['store_description'],axis=1,inplace=True)"
      ],
      "execution_count": null,
      "outputs": []
    },
    {
      "cell_type": "code",
      "metadata": {
        "id": "zm792vp8LwSN",
        "colab_type": "code",
        "colab": {}
      },
      "source": [
        "df.drop(['PaymentUsed'],axis=1,inplace=True)"
      ],
      "execution_count": null,
      "outputs": []
    },
    {
      "cell_type": "code",
      "metadata": {
        "id": "XLeISIvwLwSQ",
        "colab_type": "code",
        "colab": {}
      },
      "source": [
        "df[\"product_code\"]=df[\"product_code\"].apply(lambda x: int(str(x)[-5:]))\n",
        "#ad[\"pc\"] =df[\"product_code\"].apply(lambda x: int(str(x)[-5:]))\n",
        "df.drop(['product_description'],axis=1,inplace=True)"
      ],
      "execution_count": null,
      "outputs": []
    },
    {
      "cell_type": "code",
      "metadata": {
        "id": "Gg307oDDLwST",
        "colab_type": "code",
        "colab": {}
      },
      "source": [
        "le=LabelEncoder()\n",
        "df[\"product_code\"]=le.fit_transform(df[\"product_code\"])"
      ],
      "execution_count": null,
      "outputs": []
    },
    {
      "cell_type": "code",
      "metadata": {
        "id": "rlHIElNCLwSW",
        "colab_type": "code",
        "colab": {},
        "outputId": "f29dd0a6-08c8-4722-f19c-3e1b0ff13040"
      },
      "source": [
        "print('Columns With Nulls')\n",
        "df.isnull().sum() "
      ],
      "execution_count": null,
      "outputs": [
        {
          "output_type": "stream",
          "text": [
            "Columns With Nulls\n"
          ],
          "name": "stdout"
        },
        {
          "output_type": "execute_result",
          "data": {
            "text/plain": [
              "customerID                    0\n",
              "Age                           0\n",
              "Gender                        0\n",
              "State                         0\n",
              "store_code                    0\n",
              "transaction_number_by_till    0\n",
              "promo_code                    0\n",
              "product_code                  0\n",
              "sale_price_after_promo        0\n",
              "tender_type                   0\n",
              "payment_amount_by_tender      0\n",
              "Year                          0\n",
              "Month                         0\n",
              "Weekday                       0\n",
              "Day                           0\n",
              "Disc_1                        0\n",
              "Disc_2                        0\n",
              "Disc_3                        0\n",
              "Disc_4                        0\n",
              "dtype: int64"
            ]
          },
          "metadata": {
            "tags": []
          },
          "execution_count": 35
        }
      ]
    },
    {
      "cell_type": "code",
      "metadata": {
        "id": "wpKkhKSvLwSb",
        "colab_type": "code",
        "colab": {}
      },
      "source": [
        "#df.to_csv('./data/cleanedData.csv', index=False)"
      ],
      "execution_count": null,
      "outputs": []
    },
    {
      "cell_type": "code",
      "metadata": {
        "id": "qOK6WK7LLwSf",
        "colab_type": "code",
        "colab": {},
        "outputId": "7cc64867-5d78-4f08-c73d-0719733ad667"
      },
      "source": [
        "# histograms\n",
        "# plot histograms\n",
        "colNames = df.columns.tolist()\n",
        "colNames.remove('customerID')\n",
        "#colNames.remove('Age')                           \n",
        "#colNames.remove('Gender')\n",
        "#colNames.remove('State')\n",
        "colNames.remove('transaction_number_by_till')    \n",
        "colNames.remove('promo_code')                    \n",
        "#colNames.remove('product_code')                  \n",
        "#colNames.remove('sale_price_after_promo')\n",
        "#colNames.remove('discountUsed')\n",
        "#colNames.remove('tender_type')                \n",
        "colNames.remove('payment_amount_by_tender')\n",
        "#colNames.remove('Year')    \n",
        "#colNames.remove('Month')                        \n",
        "#colNames.remove('Weekday')                       \n",
        "#colNames.remove('Day')\n",
        "                \n",
        "print('Histograms')\n",
        "for colName in colNames:\n",
        "    colValues = df[colName].values\n",
        "    plt.figure();\n",
        "    sns.distplot(colValues, bins=30, kde=False, color='b')\n",
        "    plt.title(colName)\n",
        "    plt.show()"
      ],
      "execution_count": null,
      "outputs": [
        {
          "output_type": "stream",
          "text": [
            "Histograms\n"
          ],
          "name": "stdout"
        },
        {
          "output_type": "display_data",
          "data": {
            "image/png": "[encoded data removed]",
            "text/plain": [
              "<matplotlib.figure.Figure at 0x22a52e5d2e8>"
            ]
          },
          "metadata": {
            "tags": []
          }
        },
        {
          "output_type": "display_data",
          "data": {
            "image/png": "[encoded data removed]",
            "text/plain": [
              "<matplotlib.figure.Figure at 0x22a52e1eb00>"
            ]
          },
          "metadata": {
            "tags": []
          }
        },
        {
          "output_type": "display_data",
          "data": {
            "image/png": "[encoded data removed]",
            "text/plain": [
              "<matplotlib.figure.Figure at 0x22a52bdb2e8>"
            ]
          },
          "metadata": {
            "tags": []
          }
        },
        {
          "output_type": "display_data",
          "data": {
            "image/png": "[encoded data removed]",
            "text/plain": [
              "<matplotlib.figure.Figure at 0x22a52bc39b0>"
            ]
          },
          "metadata": {
            "tags": []
          }
        },
        {
          "output_type": "display_data",
          "data": {
            "image/png": "[encoded data removed]",
            "text/plain": [
              "<matplotlib.figure.Figure at 0x22a53759588>"
            ]
          },
          "metadata": {
            "tags": []
          }
        },
        {
          "output_type": "display_data",
          "data": {
            "image/png": "[encoded data removed]",
            "text/plain": [
              "<matplotlib.figure.Figure at 0x22a52bbee10>"
            ]
          },
          "metadata": {
            "tags": []
          }
        },
        {
          "output_type": "display_data",
          "data": {
            "image/png": "[encoded data removed]",
            "text/plain": [
              "<matplotlib.figure.Figure at 0x22a52dfc198>"
            ]
          },
          "metadata": {
            "tags": []
          }
        },
        {
          "output_type": "display_data",
          "data": {
            "image/png": "[encoded data removed]",
            "text/plain": [
              "<matplotlib.figure.Figure at 0x22a52c5e8d0>"
            ]
          },
          "metadata": {
            "tags": []
          }
        },
        {
          "output_type": "display_data",
          "data": {
            "image/png": "[encoded data removed]",
            "text/plain": [
              "<matplotlib.figure.Figure at 0x22a53790cc0>"
            ]
          },
          "metadata": {
            "tags": []
          }
        },
        {
          "output_type": "display_data",
          "data": {
            "image/png": "[encoded data removed]",
            "text/plain": [
              "<matplotlib.figure.Figure at 0x22a52e00da0>"
            ]
          },
          "metadata": {
            "tags": []
          }
        },
        {
          "output_type": "display_data",
          "data": {
            "image/png": "[encoded data removed]",
            "text/plain": [
              "<matplotlib.figure.Figure at 0x22a53ac7cf8>"
            ]
          },
          "metadata": {
            "tags": []
          }
        },
        {
          "output_type": "display_data",
          "data": {
            "image/png": "[encoded data removed]",
            "text/plain": [
              "<matplotlib.figure.Figure at 0x22a53b6ac50>"
            ]
          },
          "metadata": {
            "tags": []
          }
        },
        {
          "output_type": "display_data",
          "data": {
            "image/png": "[encoded data removed]",
            "text/plain": [
              "<matplotlib.figure.Figure at 0x22a53b43a90>"
            ]
          },
          "metadata": {
            "tags": []
          }
        },
        {
          "output_type": "display_data",
          "data": {
            "image/png": "[encoded data removed]",
            "text/plain": [
              "<matplotlib.figure.Figure at 0x22a53c274e0>"
            ]
          },
          "metadata": {
            "tags": []
          }
        },
        {
          "output_type": "display_data",
          "data": {
            "image/png": "[encoded data removed]",
            "text/plain": [
              "<matplotlib.figure.Figure at 0x22a53d1fda0>"
            ]
          },
          "metadata": {
            "tags": []
          }
        }
      ]
    },
    {
      "cell_type": "code",
      "metadata": {
        "scrolled": true,
        "id": "z9T39XKvLwSq",
        "colab_type": "code",
        "colab": {},
        "outputId": "a345caa2-1079-4bc0-cc2c-ead92876f92d"
      },
      "source": [
        "#sns.distplot(df['sale_price_after_promo'], bins=50, kde=False, color='b')\n",
        "plt.hist(df['sale_price_after_promo'], bins=60)\n",
        "plt.show()"
      ],
      "execution_count": null,
      "outputs": [
        {
          "output_type": "display_data",
          "data": {
            "image/png": "[encoded data removed]",
            "text/plain": [
              "<matplotlib.figure.Figure at 0x22a52e78748>"
            ]
          },
          "metadata": {
            "tags": []
          }
        }
      ]
    },
    {
      "cell_type": "code",
      "metadata": {
        "id": "HhM4sAPQLwSt",
        "colab_type": "code",
        "colab": {},
        "outputId": "3d3c4c7c-e93e-4aa0-ee9d-872b82fc940a"
      },
      "source": [
        "# boxplot\n",
        "cols1=['Age','customerID']\n",
        "plt.figure()\n",
        "sns.boxplot(data=df[cols1])\n",
        "plt.title(\"Age of Customers\", fontsize=15)\n",
        "plt.show()"
      ],
      "execution_count": null,
      "outputs": [
        {
          "output_type": "display_data",
          "data": {
            "image/png": "[encoded data removed]",
            "text/plain": [
              "<matplotlib.figure.Figure at 0x22a53c80198>"
            ]
          },
          "metadata": {
            "tags": []
          }
        }
      ]
    },
    {
      "cell_type": "code",
      "metadata": {
        "id": "apKtNZB8LwS3",
        "colab_type": "code",
        "colab": {},
        "outputId": "58855d50-e8d8-4f90-ac99-5f783b25bbbd"
      },
      "source": [
        "#Bar plot for Most Visited Store\n",
        "plt.figure(figsize=(12,8))\n",
        "sns.countplot(x=\"store_code\", data=df, color=color[3])\n",
        "plt.ylabel(\"Count\", fontsize=12)\n",
        "plt.xlabel(\"Store\", fontsize=12)\n",
        "plt.xticks(rotation=\"vertical\")\n",
        "plt.title(\"Most Visited Store\", fontsize=15)\n",
        "plt.show()"
      ],
      "execution_count": null,
      "outputs": [
        {
          "output_type": "display_data",
          "data": {
            "image/png": "[encoded data removed]",
            "text/plain": [
              "<matplotlib.figure.Figure at 0x22a53dcabe0>"
            ]
          },
          "metadata": {
            "tags": []
          }
        }
      ]
    },
    {
      "cell_type": "code",
      "metadata": {
        "id": "hM6yoTxiLwS7",
        "colab_type": "code",
        "colab": {}
      },
      "source": [
        "# Clustering of Stores:\n",
        "# Unsupervised Learning have no variable to predict tied to the data. Instead of having an output, the data only has an input \n",
        "# which would be multiple variables that describe the data. This is where clustering comes in. Therefore, we are considering 10 \n",
        "# parameters namely Age, Gender, State, Product_code, Sale_price_after_promo, Tender_type, Disc_1, Disc_2, Disc_3, Disc_4 \n",
        "# for clustering of stores"
      ],
      "execution_count": null,
      "outputs": []
    },
    {
      "cell_type": "code",
      "metadata": {
        "id": "8FsP5KbJLwTC",
        "colab_type": "code",
        "colab": {}
      },
      "source": [
        "#allCols = ['Age', 'Gender', 'State','transaction_number_by_till', 'promo_code', 'product_code','sale_price_after_promo', 'tender_type', 'payment_amount_by_tender','Year', 'Month', 'Weekday', 'Day', 'Disc_1', 'Disc_2', 'Disc_3','Disc_4']\n",
        "allCols = ['Age', 'Gender', 'State', 'product_code','sale_price_after_promo', 'tender_type', 'Disc_1', 'Disc_2', 'Disc_3','Disc_4']\n",
        "X = df[allCols].values\n",
        "y = df['store_code'].values"
      ],
      "execution_count": null,
      "outputs": []
    },
    {
      "cell_type": "code",
      "metadata": {
        "id": "OflD8QeyLwTE",
        "colab_type": "code",
        "colab": {},
        "outputId": "b76d1291-7a22-4b35-c89f-68338c9512e7"
      },
      "source": [
        "# shape\n",
        "print(X.shape)\n",
        "print(y.shape)"
      ],
      "execution_count": null,
      "outputs": [
        {
          "output_type": "stream",
          "text": [
            "(14466, 10)\n",
            "(14466,)\n"
          ],
          "name": "stdout"
        }
      ]
    },
    {
      "cell_type": "code",
      "metadata": {
        "id": "pYk_dCtZLwTK",
        "colab_type": "code",
        "colab": {},
        "outputId": "f178afb6-aec3-4462-bf6a-853b23e2f4c4"
      },
      "source": [
        "# head\n",
        "print(X[0:4])\n",
        "print(y[0:4])"
      ],
      "execution_count": null,
      "outputs": [
        {
          "output_type": "stream",
          "text": [
            "[[43 1 14 3197 55.0 19 2 '9' '9' '9']\n",
            " [37 0 15 3386 418.95 3 2 '9' '9' '9']\n",
            " [32 1 15 3035 70.0 29 2 '9' '9' '9']\n",
            " [30 1 14 4606 34.2 3 2 '9' '9' '9']]\n",
            "[2655 2655 2615 2655]\n"
          ],
          "name": "stdout"
        }
      ]
    },
    {
      "cell_type": "code",
      "metadata": {
        "id": "S4oCGbJrLwTc",
        "colab_type": "code",
        "colab": {}
      },
      "source": [
        "# data normalization\n",
        "rbs = RobustScaler()\n",
        "cld2 = rbs.fit_transform(X)"
      ],
      "execution_count": null,
      "outputs": []
    },
    {
      "cell_type": "code",
      "metadata": {
        "id": "WoaqaDQNLwTf",
        "colab_type": "code",
        "colab": {}
      },
      "source": [
        "# k means cluster optimization\n",
        "# n_clusters : int, optional, default: 8\n",
        "#   The number of clusters to form as well as the number of centroids to generate.\n",
        "# init : {‘k-means++’, ‘random’ or an ndarray}\n",
        "#   Method for initialization, defaults to ‘k-means++’:\n",
        "#   'k-means++': selects initial cluster centers for k-mean clustering in a smart way to speed up convergence. \n",
        "#   'random': choose k observations (rows) at random from data for the initial centroids.\n",
        "#   'ndarray': it should be of shape (n_clusters, n_features) and gives the initial centers.\n",
        "# n_init : int, default: 10\n",
        "#   Number of time the k-means algorithm will be run with different centroid seeds. \n",
        "#   The final results will be the best output of n_init consecutive runs in terms of inertia.\n",
        "# max_iter : int, default: 300\n",
        "#   Maximum number of iterations of the k-means algorithm for a single run.\n",
        "hp = pd.DataFrame()\n",
        "\n",
        "method = ['k-means++', 'random']\n",
        "\n",
        "for n in (2, 3, 4):\n",
        "    for p in method:\n",
        "        for q in (9,10,11):\n",
        "                km1 = KMeans(n_clusters=n, init = p ,max_iter = 300, n_init = q, random_state = 707)\n",
        "                km2 = km1.fit(cld2)\n",
        "                label = km2.predict(cld2)\n",
        "                score = silhouette_score(cld2, label)\n",
        "                hp = hp.append({'n_clusters':n,'init':p, 'n_init':q, 'silhouette_score':score}, ignore_index=True)"
      ],
      "execution_count": null,
      "outputs": []
    },
    {
      "cell_type": "code",
      "metadata": {
        "id": "AZORzFx2LwTh",
        "colab_type": "code",
        "colab": {},
        "outputId": "b8c3c09d-b30a-49ca-ff1e-3a120a873d33"
      },
      "source": [
        "print(hp)"
      ],
      "execution_count": null,
      "outputs": [
        {
          "output_type": "stream",
          "text": [
            "         init  n_clusters  n_init  silhouette_score\n",
            "0   k-means++         2.0     9.0          0.860954\n",
            "1   k-means++         2.0    10.0          0.860954\n",
            "2   k-means++         2.0    11.0          0.860954\n",
            "3      random         2.0     9.0          0.860954\n",
            "4      random         2.0    10.0          0.860954\n",
            "5      random         2.0    11.0          0.860954\n",
            "6   k-means++         3.0     9.0          0.613735\n",
            "7   k-means++         3.0    10.0          0.613735\n",
            "8   k-means++         3.0    11.0          0.613735\n",
            "9      random         3.0     9.0          0.613735\n",
            "10     random         3.0    10.0          0.613735\n",
            "11     random         3.0    11.0          0.613735\n",
            "12  k-means++         4.0     9.0          0.561280\n",
            "13  k-means++         4.0    10.0          0.561280\n",
            "14  k-means++         4.0    11.0          0.561280\n",
            "15     random         4.0     9.0          0.561280\n",
            "16     random         4.0    10.0          0.561280\n",
            "17     random         4.0    11.0          0.561280\n"
          ],
          "name": "stdout"
        }
      ]
    },
    {
      "cell_type": "code",
      "metadata": {
        "id": "02lB0130LwTk",
        "colab_type": "code",
        "colab": {}
      },
      "source": [
        "# Therefore Clustering with 2 clusters, K-means++ and n_init as 10 gives maximum silhouette_score taking dimensions - \n",
        "# Age, Gender, State, Product_code, Sale_price_after_promo, Tender_type, Disc_1, Disc_2, Disc_3, Disc_4 into account."
      ],
      "execution_count": null,
      "outputs": []
    },
    {
      "cell_type": "code",
      "metadata": {
        "id": "mA2W3bNaLwTn",
        "colab_type": "code",
        "colab": {},
        "outputId": "b07efee5-a942-4167-b437-11897973bf75"
      },
      "source": [
        "# We may try using PCA to reduce the dimensions to 2 no of components and then check the score to estimate the no of clusters \n",
        "# based on abstracted feature.\n",
        "\n",
        "pca = PCA(n_components=2)\n",
        "principalComponents = pca.fit_transform(cld2)\n",
        "print (\"Shape of principalComponents\", principalComponents.shape)"
      ],
      "execution_count": null,
      "outputs": [
        {
          "output_type": "stream",
          "text": [
            "Shape of principalComponents (14466, 2)\n"
          ],
          "name": "stdout"
        }
      ]
    },
    {
      "cell_type": "code",
      "metadata": {
        "id": "9jdS1u5CLwTq",
        "colab_type": "code",
        "colab": {},
        "outputId": "23994590-b88c-4f43-9e42-120eac77e84b"
      },
      "source": [
        "# This parameter returns a vector of the variance explained by each dimension\n",
        "pca.explained_variance_ratio_"
      ],
      "execution_count": null,
      "outputs": [
        {
          "output_type": "execute_result",
          "data": {
            "text/plain": [
              "array([ 0.49754847,  0.23738108])"
            ]
          },
          "metadata": {
            "tags": []
          },
          "execution_count": 50
        }
      ]
    },
    {
      "cell_type": "code",
      "metadata": {
        "id": "Io6Uyas4LwTv",
        "colab_type": "code",
        "colab": {}
      },
      "source": [
        "principalDf = pd.DataFrame(data = principalComponents,columns = ['principal component 1', 'principal component 2'])"
      ],
      "execution_count": null,
      "outputs": []
    },
    {
      "cell_type": "code",
      "metadata": {
        "id": "2T0LlcU2LwTy",
        "colab_type": "code",
        "colab": {},
        "outputId": "d2d1889b-df9e-41a7-856d-0c893d2d1375"
      },
      "source": [
        "principalDf.head()"
      ],
      "execution_count": null,
      "outputs": [
        {
          "output_type": "execute_result",
          "data": {
            "text/html": [
              "<div>\n",
              "<style>\n",
              "    .dataframe thead tr:only-child th {\n",
              "        text-align: right;\n",
              "    }\n",
              "\n",
              "    .dataframe thead th {\n",
              "        text-align: left;\n",
              "    }\n",
              "\n",
              "    .dataframe tbody tr th {\n",
              "        vertical-align: top;\n",
              "    }\n",
              "</style>\n",
              "<table border=\"1\" class=\"dataframe\">\n",
              "  <thead>\n",
              "    <tr style=\"text-align: right;\">\n",
              "      <th></th>\n",
              "      <th>principal component 1</th>\n",
              "      <th>principal component 2</th>\n",
              "    </tr>\n",
              "  </thead>\n",
              "  <tbody>\n",
              "    <tr>\n",
              "      <th>0</th>\n",
              "      <td>-0.741511</td>\n",
              "      <td>-0.429319</td>\n",
              "    </tr>\n",
              "    <tr>\n",
              "      <th>1</th>\n",
              "      <td>2.130561</td>\n",
              "      <td>-0.485667</td>\n",
              "    </tr>\n",
              "    <tr>\n",
              "      <th>2</th>\n",
              "      <td>-0.614615</td>\n",
              "      <td>-0.445031</td>\n",
              "    </tr>\n",
              "    <tr>\n",
              "      <th>3</th>\n",
              "      <td>-0.886107</td>\n",
              "      <td>-0.505485</td>\n",
              "    </tr>\n",
              "    <tr>\n",
              "      <th>4</th>\n",
              "      <td>10.672486</td>\n",
              "      <td>-0.314642</td>\n",
              "    </tr>\n",
              "  </tbody>\n",
              "</table>\n",
              "</div>"
            ],
            "text/plain": [
              "   principal component 1  principal component 2\n",
              "0              -0.741511              -0.429319\n",
              "1               2.130561              -0.485667\n",
              "2              -0.614615              -0.445031\n",
              "3              -0.886107              -0.505485\n",
              "4              10.672486              -0.314642"
            ]
          },
          "metadata": {
            "tags": []
          },
          "execution_count": 52
        }
      ]
    },
    {
      "cell_type": "code",
      "metadata": {
        "id": "aL0cm_QWLwT3",
        "colab_type": "code",
        "colab": {}
      },
      "source": [
        "df2= pd.DataFrame(data=y,columns = [\"Store_Code\"])"
      ],
      "execution_count": null,
      "outputs": []
    },
    {
      "cell_type": "code",
      "metadata": {
        "id": "LpDv2j9WLwT6",
        "colab_type": "code",
        "colab": {}
      },
      "source": [
        "finalDf = pd.concat([principalDf, df2], axis = 1)"
      ],
      "execution_count": null,
      "outputs": []
    },
    {
      "cell_type": "code",
      "metadata": {
        "id": "XIcb_88TLwT9",
        "colab_type": "code",
        "colab": {},
        "outputId": "6b5993cc-f488-4a46-a5a8-87810c9433f2"
      },
      "source": [
        "finalDf.head()"
      ],
      "execution_count": null,
      "outputs": [
        {
          "output_type": "execute_result",
          "data": {
            "text/html": [
              "<div>\n",
              "<style>\n",
              "    .dataframe thead tr:only-child th {\n",
              "        text-align: right;\n",
              "    }\n",
              "\n",
              "    .dataframe thead th {\n",
              "        text-align: left;\n",
              "    }\n",
              "\n",
              "    .dataframe tbody tr th {\n",
              "        vertical-align: top;\n",
              "    }\n",
              "</style>\n",
              "<table border=\"1\" class=\"dataframe\">\n",
              "  <thead>\n",
              "    <tr style=\"text-align: right;\">\n",
              "      <th></th>\n",
              "      <th>principal component 1</th>\n",
              "      <th>principal component 2</th>\n",
              "      <th>Store_Code</th>\n",
              "    </tr>\n",
              "  </thead>\n",
              "  <tbody>\n",
              "    <tr>\n",
              "      <th>0</th>\n",
              "      <td>-0.741511</td>\n",
              "      <td>-0.429319</td>\n",
              "      <td>2655</td>\n",
              "    </tr>\n",
              "    <tr>\n",
              "      <th>1</th>\n",
              "      <td>2.130561</td>\n",
              "      <td>-0.485667</td>\n",
              "      <td>2655</td>\n",
              "    </tr>\n",
              "    <tr>\n",
              "      <th>2</th>\n",
              "      <td>-0.614615</td>\n",
              "      <td>-0.445031</td>\n",
              "      <td>2615</td>\n",
              "    </tr>\n",
              "    <tr>\n",
              "      <th>3</th>\n",
              "      <td>-0.886107</td>\n",
              "      <td>-0.505485</td>\n",
              "      <td>2655</td>\n",
              "    </tr>\n",
              "    <tr>\n",
              "      <th>4</th>\n",
              "      <td>10.672486</td>\n",
              "      <td>-0.314642</td>\n",
              "      <td>2906</td>\n",
              "    </tr>\n",
              "  </tbody>\n",
              "</table>\n",
              "</div>"
            ],
            "text/plain": [
              "   principal component 1  principal component 2  Store_Code\n",
              "0              -0.741511              -0.429319        2655\n",
              "1               2.130561              -0.485667        2655\n",
              "2              -0.614615              -0.445031        2615\n",
              "3              -0.886107              -0.505485        2655\n",
              "4              10.672486              -0.314642        2906"
            ]
          },
          "metadata": {
            "tags": []
          },
          "execution_count": 55
        }
      ]
    },
    {
      "cell_type": "code",
      "metadata": {
        "id": "iPb_7rRkLwUC",
        "colab_type": "code",
        "colab": {}
      },
      "source": [
        "#df['store_code'].unique()"
      ],
      "execution_count": null,
      "outputs": []
    },
    {
      "cell_type": "code",
      "metadata": {
        "id": "9od8xgOnLwUH",
        "colab_type": "code",
        "colab": {},
        "outputId": "e87825c0-803f-4a64-b276-e48888d53047"
      },
      "source": [
        "plt.scatter(principalDf['principal component 1'],principalDf['principal component 2'], c='r', edgecolor='none', alpha=0.5,\n",
        "            cmap=plt.cm.get_cmap('spectral', 10))\n",
        "plt.show()"
      ],
      "execution_count": null,
      "outputs": [
        {
          "output_type": "display_data",
          "data": {
            "image/png": "[encoded data removed]",
            "text/plain": [
              "<matplotlib.figure.Figure at 0x22a52c5ee80>"
            ]
          },
          "metadata": {
            "tags": []
          }
        }
      ]
    },
    {
      "cell_type": "code",
      "metadata": {
        "scrolled": true,
        "id": "OPAgeuUOLwUL",
        "colab_type": "code",
        "colab": {},
        "outputId": "cbe09514-8715-4f8b-e46a-2011f27f5f83"
      },
      "source": [
        "finalDf.info()"
      ],
      "execution_count": null,
      "outputs": [
        {
          "output_type": "stream",
          "text": [
            "<class 'pandas.core.frame.DataFrame'>\n",
            "RangeIndex: 14466 entries, 0 to 14465\n",
            "Data columns (total 3 columns):\n",
            "principal component 1    14466 non-null float64\n",
            "principal component 2    14466 non-null float64\n",
            "Store_Code               14466 non-null int64\n",
            "dtypes: float64(2), int64(1)\n",
            "memory usage: 339.1 KB\n"
          ],
          "name": "stdout"
        }
      ]
    },
    {
      "cell_type": "code",
      "metadata": {
        "id": "hrunnUx7LwUO",
        "colab_type": "code",
        "colab": {},
        "outputId": "eaf66360-f76f-4a3c-a2eb-de5e02c506a8"
      },
      "source": [
        "fig = plt.figure(figsize = (8,8))\n",
        "ax = fig.add_subplot(1,1,1) \n",
        "ax.set_xlabel('Principal Component 1', fontsize = 15)\n",
        "ax.set_ylabel('Principal Component 2', fontsize = 15)\n",
        "ax.set_title('2 component PCA', fontsize = 20)\n",
        "targets = [2655, 2615, 2906, 3692, 4986, 4796, 4843]\n",
        "colors = sns.color_palette()\n",
        "for target, color in zip(targets,colors):\n",
        "    indicesToKeep = finalDf['Store_Code'] == target\n",
        "    ax.scatter(finalDf.loc[indicesToKeep, 'principal component 1']\n",
        "               , finalDf.loc[indicesToKeep, 'principal component 2']\n",
        "               , c = color\n",
        "               , alpha=0.5\n",
        "               , cmap=plt.cm.get_cmap('spectral', 30)\n",
        "               , s = 30)\n",
        "ax.legend(targets)\n",
        "ax.grid()\n",
        "plt.show()"
      ],
      "execution_count": null,
      "outputs": [
        {
          "output_type": "display_data",
          "data": {
            "image/png": "[encoded data removed]",
            "text/plain": [
              "<matplotlib.figure.Figure at 0x22a52e07f98>"
            ]
          },
          "metadata": {
            "tags": []
          }
        }
      ]
    },
    {
      "cell_type": "code",
      "metadata": {
        "id": "Zb5MuaAHLwUR",
        "colab_type": "code",
        "colab": {}
      },
      "source": [
        "# Clustering after doing PCA and using abstracted feature as dimensions\n",
        "\n",
        "hp2 = pd.DataFrame()\n",
        "\n",
        "method = ['k-means++', 'random']\n",
        "\n",
        "for n in (2, 3, 4):\n",
        "    for p in method:\n",
        "        for q in (9,10,11):\n",
        "            km1 = KMeans(n_clusters= n, init = p, max_iter = 300, n_init = q, random_state = 707)\n",
        "            km2 = km1.fit(principalComponents)\n",
        "            label = km2.predict(principalComponents)\n",
        "            score = silhouette_score(principalComponents, label)\n",
        "            hp2 = hp2.append({'n_clusters':n,'init':p, 'n_init':q, 'silhouette_score':score}, ignore_index=True)"
      ],
      "execution_count": null,
      "outputs": []
    },
    {
      "cell_type": "code",
      "metadata": {
        "id": "XuQDDxlWLwUW",
        "colab_type": "code",
        "colab": {},
        "outputId": "aa491882-aa62-4df9-add3-5b5f82236e12"
      },
      "source": [
        "print(hp2)"
      ],
      "execution_count": null,
      "outputs": [
        {
          "output_type": "stream",
          "text": [
            "         init  n_clusters  n_init  silhouette_score\n",
            "0   k-means++         2.0     9.0          0.915589\n",
            "1   k-means++         2.0    10.0          0.915589\n",
            "2   k-means++         2.0    11.0          0.915589\n",
            "3      random         2.0     9.0          0.915589\n",
            "4      random         2.0    10.0          0.915589\n",
            "5      random         2.0    11.0          0.915589\n",
            "6   k-means++         3.0     9.0          0.807518\n",
            "7   k-means++         3.0    10.0          0.807518\n",
            "8   k-means++         3.0    11.0          0.807518\n",
            "9      random         3.0     9.0          0.807518\n",
            "10     random         3.0    10.0          0.807518\n",
            "11     random         3.0    11.0          0.807518\n",
            "12  k-means++         4.0     9.0          0.793076\n",
            "13  k-means++         4.0    10.0          0.793076\n",
            "14  k-means++         4.0    11.0          0.793076\n",
            "15     random         4.0     9.0          0.759705\n",
            "16     random         4.0    10.0          0.759705\n",
            "17     random         4.0    11.0          0.759705\n"
          ],
          "name": "stdout"
        }
      ]
    },
    {
      "cell_type": "code",
      "metadata": {
        "id": "7NL5DfO1LwUZ",
        "colab_type": "code",
        "colab": {},
        "outputId": "460ecf87-bab9-4e8d-8fc3-9f31b3cf0212"
      },
      "source": [
        "# Therefore Clustering with 2 clusters, K-means++ and n_init as 10 gives maximum silhouette_score\n",
        "km1 = KMeans(n_clusters= 2, init = 'k-means++', max_iter = 300, n_init = 10, random_state = 707)\n",
        "km2 = km1.fit(principalComponents)\n",
        "label = km2.predict(principalComponents)\n",
        "silhouette_score(principalComponents, label)"
      ],
      "execution_count": null,
      "outputs": [
        {
          "output_type": "execute_result",
          "data": {
            "text/plain": [
              "0.91558895012086616"
            ]
          },
          "metadata": {
            "tags": []
          },
          "execution_count": 62
        }
      ]
    },
    {
      "cell_type": "code",
      "metadata": {
        "id": "KlS2Kqx_LwUc",
        "colab_type": "code",
        "colab": {}
      },
      "source": [
        "customers=df[\"customerID\"]\n",
        "store=df[\"store_code\"]"
      ],
      "execution_count": null,
      "outputs": []
    },
    {
      "cell_type": "code",
      "metadata": {
        "id": "u3QlCjomLwUg",
        "colab_type": "code",
        "colab": {}
      },
      "source": [
        "sub1 = pd.DataFrame({'customerID':customers, 'store_code':store, 'cluster':label},)"
      ],
      "execution_count": null,
      "outputs": []
    },
    {
      "cell_type": "code",
      "metadata": {
        "id": "bggePLJGLwUi",
        "colab_type": "code",
        "colab": {}
      },
      "source": [
        "cols=['customerID','store_code','cluster']"
      ],
      "execution_count": null,
      "outputs": []
    },
    {
      "cell_type": "code",
      "metadata": {
        "id": "RCmSjy2rLwUk",
        "colab_type": "code",
        "colab": {}
      },
      "source": [
        "sub1=sub1[cols]"
      ],
      "execution_count": null,
      "outputs": []
    },
    {
      "cell_type": "code",
      "metadata": {
        "id": "F8tOIFJALwUn",
        "colab_type": "code",
        "colab": {}
      },
      "source": [
        "# Writing dataframe to csv with columns- CustomerID as Customers, StoreCode as Store, Label as ClusterNo.\n",
        "sub1.to_csv('./data/predictedCluster.csv', index=False)"
      ],
      "execution_count": null,
      "outputs": []
    },
    {
      "cell_type": "code",
      "metadata": {
        "id": "a4s56XE5LwUq",
        "colab_type": "code",
        "colab": {}
      },
      "source": [
        ""
      ],
      "execution_count": null,
      "outputs": []
    }
  ]
}